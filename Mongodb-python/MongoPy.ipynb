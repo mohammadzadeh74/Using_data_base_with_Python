{
 "cells": [
  {
   "cell_type": "code",
   "execution_count": 7,
   "metadata": {},
   "outputs": [],
   "source": [
    "import pymongo\n",
    "\n",
    "myclient = pymongo.MongoClient(\"mongodb://localhost:27017/\")\n",
    "\n",
    "mydb = myclient[\"mydb\"]"
   ]
  },
  {
   "cell_type": "code",
   "execution_count": 8,
   "metadata": {},
   "outputs": [
    {
     "name": "stdout",
     "output_type": "stream",
     "text": [
      "['admin', 'config', 'local', 'mydb']\n"
     ]
    }
   ],
   "source": [
    "print(myclient.list_database_names())\n",
    "\n",
    "my_dbs = myclient.list_database_names()"
   ]
  },
  {
   "cell_type": "code",
   "execution_count": null,
   "metadata": {},
   "outputs": [],
   "source": []
  },
  {
   "cell_type": "code",
   "execution_count": 10,
   "metadata": {},
   "outputs": [
    {
     "name": "stdout",
     "output_type": "stream",
     "text": [
      "['friends', 'testCollection']\n"
     ]
    }
   ],
   "source": [
    "print(mydb.list_collection_names())\n"
   ]
  },
  {
   "cell_type": "code",
   "execution_count": null,
   "metadata": {},
   "outputs": [],
   "source": []
  },
  {
   "cell_type": "code",
   "execution_count": 21,
   "metadata": {},
   "outputs": [
    {
     "name": "stdout",
     "output_type": "stream",
     "text": [
      "{'array ecample': 'here is an example of array', 'qualification': ['BCA', 'BS', 'MCA']}\n",
      "{'oblect data type': 'this is object', 'marks': {'english': 94.0, 'compSc': 96.0, 'maths': 80.0, 'generalSc': 85.0}}\n",
      "{'email': None}\n",
      "{'Date': datetime.datetime(2020, 8, 17, 6, 33, 2, 376000), 'Date2': datetime.datetime(2020, 8, 17, 6, 33, 17, 270000), 'month': 7.0}\n"
     ]
    }
   ],
   "source": [
    "mycol = mydb[\"testCollection\"]\n",
    "for x in mycol.find({},{ \"_id\": 0}):\n",
    "  print(x)"
   ]
  },
  {
   "cell_type": "code",
   "execution_count": 22,
   "metadata": {},
   "outputs": [
    {
     "name": "stdout",
     "output_type": "stream",
     "text": [
      "{'oblect data type': 'this is object', 'marks': {'english': 94.0, 'compSc': 96.0, 'maths': 80.0, 'generalSc': 85.0}}\n"
     ]
    }
   ],
   "source": [
    "print(mycol.find({},{ \"_id\": 0})[1])"
   ]
  },
  {
   "cell_type": "code",
   "execution_count": 23,
   "metadata": {},
   "outputs": [
    {
     "name": "stdout",
     "output_type": "stream",
     "text": [
      "{'array ecample': 'here is an example of array', 'qualification': ['BCA', 'BS', 'MCA']}\n",
      "{'oblect data type': 'this is object', 'marks': {'english': 94.0, 'compSc': 96.0, 'maths': 80.0, 'generalSc': 85.0}}\n",
      "{'email': None}\n",
      "{'Date': datetime.datetime(2020, 8, 17, 6, 33, 2, 376000), 'Date2': datetime.datetime(2020, 8, 17, 6, 33, 17, 270000), 'month': 7.0}\n"
     ]
    }
   ],
   "source": [
    "for x in mycol.find({},{ \"_id\": 0 }):\n",
    "  print(x)"
   ]
  },
  {
   "cell_type": "code",
   "execution_count": 27,
   "metadata": {},
   "outputs": [
    {
     "name": "stdout",
     "output_type": "stream",
     "text": [
      "{'_id': ObjectId('5f3a251c5508adff992ce62b'), 'Date': datetime.datetime(2020, 8, 17, 6, 33, 2, 376000), 'Date2': datetime.datetime(2020, 8, 17, 6, 33, 17, 270000), 'month': 7.0}\n"
     ]
    }
   ],
   "source": [
    "myquery = { \"month\" : 7}\n",
    "\n",
    "mydoc = mycol.find(myquery)\n",
    "\n",
    "for x in mydoc:\n",
    "  print(x)"
   ]
  },
  {
   "cell_type": "code",
   "execution_count": null,
   "metadata": {},
   "outputs": [],
   "source": []
  },
  {
   "cell_type": "code",
   "execution_count": null,
   "metadata": {},
   "outputs": [],
   "source": []
  }
 ],
 "metadata": {
  "kernelspec": {
   "display_name": "Python 3",
   "language": "python",
   "name": "python3"
  },
  "language_info": {
   "codemirror_mode": {
    "name": "ipython",
    "version": 3
   },
   "file_extension": ".py",
   "mimetype": "text/x-python",
   "name": "python",
   "nbconvert_exporter": "python",
   "pygments_lexer": "ipython3",
   "version": "3.7.3"
  }
 },
 "nbformat": 4,
 "nbformat_minor": 2
}
